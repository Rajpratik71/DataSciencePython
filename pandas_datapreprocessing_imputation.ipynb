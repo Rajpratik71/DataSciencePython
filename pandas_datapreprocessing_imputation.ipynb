{
 "cells": [
  {
   "cell_type": "code",
   "execution_count": 1,
   "metadata": {
    "collapsed": false
   },
   "outputs": [
    {
     "name": "stdout",
     "output_type": "stream",
     "text": [
      "Null values by variable:\n",
      "------------------------\n"
     ]
    },
    {
     "data": {
      "text/plain": [
       "customer_id         18\n",
       "name                 0\n",
       "email              158\n",
       "sex                111\n",
       "age                113\n",
       "state               40\n",
       "cheq_balance        23\n",
       "savings_balance     96\n",
       "credit_score        78\n",
       "special_offer        0\n",
       "dtype: int64"
      ]
     },
     "execution_count": 1,
     "metadata": {},
     "output_type": "execute_result"
    }
   ],
   "source": [
    "import pandas as pd\n",
    "import numpy as np\n",
    "\n",
    "# Importing the dataset\n",
    "dataset_filename = '/Users/ERexhepa/Downloads/mock_bank_data_original.csv'\n",
    "df = pd.read_csv(dataset_filename)\n",
    "\n",
    "# Summarize missing values\n",
    "print 'Null values by variable:'\n",
    "print '------------------------'\n",
    "df.isnull().sum()"
   ]
  },
  {
   "cell_type": "code",
   "execution_count": 2,
   "metadata": {
    "collapsed": false
   },
   "outputs": [
    {
     "name": "stdout",
     "output_type": "stream",
     "text": [
      "Null values by variable:\n",
      "------------------------\n"
     ]
    },
    {
     "data": {
      "text/plain": [
       "customer_id         18\n",
       "name                 0\n",
       "email              158\n",
       "sex                111\n",
       "age                113\n",
       "state               40\n",
       "cheq_balance        23\n",
       "savings_balance     96\n",
       "credit_score        78\n",
       "special_offer        0\n",
       "dtype: int64"
      ]
     },
     "execution_count": 2,
     "metadata": {},
     "output_type": "execute_result"
    }
   ],
   "source": [
    "import pandas as pd\n",
    "import numpy as np\n",
    "\n",
    "# Importing the dataset\n",
    "dataset_filename = '/Users/ERexhepa/Downloads/mock_bank_data_original.csv'\n",
    "df = pd.read_csv(dataset_filename)\n",
    "\n",
    "# Summarize missing values\n",
    "print 'Null values by variable:'\n",
    "print '------------------------'\n",
    "df.isnull().sum()"
   ]
  },
  {
   "cell_type": "code",
   "execution_count": 3,
   "metadata": {
    "collapsed": true
   },
   "outputs": [],
   "source": [
    "import pandas as pd\n",
    "import numpy as np\n",
    "\n",
    "# Load the dataset\n",
    "df = pd.read_csv('/Users/ERexhepa/Downloads/mock_bank_data_original.csv')\n",
    "\n",
    "####################\n",
    "### Drop columns ###\n",
    "####################\n",
    "\n",
    "# Drop all rows with NaN in state column\n",
    "df = df[pd.notnull(df['state'])]\n",
    "\n",
    "##################################\n",
    "### Replace with column median ###\n",
    "##################################\n",
    "\n",
    "# Replace credit_score NaN with median credit_score\n",
    "df['credit_score'] = df['credit_score'].fillna(df['credit_score'].median())\n",
    "\n",
    "################################\n",
    "### Drop unnecessary columns ###\n",
    "################################\n",
    "\n",
    "# Remove custoemr_id, name, and email columns\n",
    "for col in ['customer_id', 'name', 'email']:\n",
    "    df = df.drop(col, axis=1)\n",
    "\n",
    "################################\n",
    "### Save new dataset to file ###\n",
    "################################\n",
    "\n",
    "# Output modified dataset to CSV\n",
    "df.to_csv('mock_bank_data_original_PART1.csv', index=False)"
   ]
  },
  {
   "cell_type": "code",
   "execution_count": 5,
   "metadata": {
    "collapsed": false
   },
   "outputs": [
    {
     "name": "stdout",
     "output_type": "stream",
     "text": [
      "Overall cheq_balance mean: 4938.91\n",
      "Overall savings_balance mean: 9603.64\n"
     ]
    }
   ],
   "source": [
    "print 'Overall cheq_balance mean:', df['cheq_balance'].mean().round(2)\n",
    "print 'Overall savings_balance mean:', df['savings_balance'].mean().round(2)\n",
    "\n",
    "#Overall cheq_balance mean: 4938.91\n",
    "#Overall savings_balance mean: 9603.64"
   ]
  },
  {
   "cell_type": "code",
   "execution_count": 7,
   "metadata": {
    "collapsed": false
   },
   "outputs": [
    {
     "name": "stdout",
     "output_type": "stream",
     "text": [
      "cheq_balance mean by state:\n",
      "---------------------------\n"
     ]
    }
   ],
   "source": [
    "print 'cheq_balance mean by state:'\n",
    "print '---------------------------'\n",
    "#print df.groupby(['state']).mean().groupby('state')['cheq_balance'].mean().round(2)\n",
    "\n",
    "#cheq_balance mean by state:\n",
    "#---------------------------\n",
    "#state\n",
    "#CA    4637.23\n",
    "#FL    4993.99\n",
    "#NY    4932.80\n",
    "#TX    5175.78\n",
    "#Name: cheq_balance, dtype: float64"
   ]
  },
  {
   "cell_type": "code",
   "execution_count": 10,
   "metadata": {
    "collapsed": false
   },
   "outputs": [
    {
     "name": "stdout",
     "output_type": "stream",
     "text": [
      "savings_balance mean by state:\n",
      "------------------------------\n"
     ]
    }
   ],
   "source": [
    "print 'savings_balance mean by state:'\n",
    "print '------------------------------'\n",
    "#print df.groupby(['state']).mean().groupby('state')['savings_balance'].mean().round(2)\n",
    "\n",
    "#savings_balance mean by state:\n",
    "#------------------------------\n",
    "#state\n",
    "#CA     9174.56\n",
    "#FL     9590.59\n",
    "#NY    10443.61\n",
    "#TX     9611.70\n",
    "#Name: savings_balance, dtype: float64"
   ]
  },
  {
   "cell_type": "code",
   "execution_count": 11,
   "metadata": {
    "collapsed": true
   },
   "outputs": [],
   "source": [
    "# Replace cheq_balance NaN with mean cheq_balance of same state\n",
    "df['cheq_balance'] = df.groupby('state').cheq_balance.transform(lambda x: x.fillna(x.mean()))\n",
    "df.cheq_balance = df.cheq_balance.round(2)\n",
    "\n",
    "# Replace savings_balance NaN with mean savings_balance of same state\n",
    "df['savings_balance'] = df.groupby('state').savings_balance.transform(lambda x: x.fillna(x.mean()))\n",
    "df.savings_balance = df.savings_balance.round(2)"
   ]
  },
  {
   "cell_type": "code",
   "execution_count": 12,
   "metadata": {
    "collapsed": true
   },
   "outputs": [],
   "source": [
    "# Output modified dataset to CSV\n",
    "df.to_csv('mock_bank_data_original_PART2.csv', index=False)"
   ]
  }
 ],
 "metadata": {
  "kernelspec": {
   "display_name": "Python 2",
   "language": "python",
   "name": "python2"
  },
  "language_info": {
   "codemirror_mode": {
    "name": "ipython",
    "version": 2
   },
   "file_extension": ".py",
   "mimetype": "text/x-python",
   "name": "python",
   "nbconvert_exporter": "python",
   "pygments_lexer": "ipython2",
   "version": "2.7.12"
  },
  "toc": {
   "colors": {
    "hover_highlight": "#DAA520",
    "navigate_num": "#000000",
    "navigate_text": "#333333",
    "running_highlight": "#FF0000",
    "selected_highlight": "#FFD700",
    "sidebar_border": "#EEEEEE",
    "wrapper_background": "#FFFFFF"
   },
   "moveMenuLeft": true,
   "nav_menu": {
    "height": "12px",
    "width": "252px"
   },
   "navigate_menu": true,
   "number_sections": true,
   "sideBar": true,
   "threshold": 4,
   "toc_cell": false,
   "toc_section_display": "block",
   "toc_window_display": false,
   "widenNotebook": false
  }
 },
 "nbformat": 4,
 "nbformat_minor": 1
}
